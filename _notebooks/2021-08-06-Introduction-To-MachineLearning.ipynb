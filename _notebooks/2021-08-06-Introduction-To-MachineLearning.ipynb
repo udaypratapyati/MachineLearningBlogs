{
 "cells": [
  {
   "cell_type": "markdown",
   "metadata": {},
   "source": [
    "# INTRO TO MACHINE LEARNING\n",
    "\n",
    "> \"A brief introduction to machine learning\"\n",
    "\n",
    "- toc: false\n",
    "- branch: master\n",
    "- badges: true\n",
    "- comments: true\n",
    "- categories: [MachineLearning, ML, DataScience]\n",
    "- image: images/IntroToML/image12.png\n",
    "- hide: false\n",
    "- search_exclude: true\n",
    "- metadata_key1: metadata_value1\n",
    "- metadata_key2: metadata_value2"
   ]
  },
  {
   "cell_type": "markdown",
   "metadata": {},
   "source": [
    "## Data Science from different perspective"
   ]
  },
  {
   "attachments": {},
   "cell_type": "markdown",
   "metadata": {},
   "source": [
    "![image.png](IntroToML/image0.png)"
   ]
  },
  {
   "attachments": {},
   "cell_type": "markdown",
   "metadata": {},
   "source": [
    "## What is Data Science\n",
    "\n",
    "Data science is an interdisciplinary field about __scientific__ _methods_ , _processes_ and _systems_ to extract __Knowledge or insights__ from data in various forms, either __structured or unstructured__.\n",
    "![image.png](images/image1.png)"
   ]
  },
  {
   "cell_type": "markdown",
   "metadata": {},
   "source": [
    "## Data Science Process\n",
    "\n",
    "The three components involved in data science are __organising__, __packaging__ and __delivering__ data.<br/>\n",
    "The 3 step OPD Data Science Process\n",
    "\n",
    "### Step 1. Organise Data.\n",
    "Organising data involves the __physical storage and format of data__ and incorporated best practices in data management.\n",
    "\n",
    "### Step 2. Package Data. \n",
    "Packaging data involves __logically manipulating__ and __joining the underlying raw data__ into a _new representation_ and package.\n",
    "\n",
    "### Step 3. Deliver Data.\n",
    "Delivering data involves ensuring that the __message__ that the __data__ has, is being accessed by those that need to hear it."
   ]
  },
  {
   "cell_type": "markdown",
   "metadata": {},
   "source": [
    "## Intro to Machine Learning\n"
   ]
  },
  {
   "attachments": {},
   "cell_type": "markdown",
   "metadata": {},
   "source": [
    "![image.png](IntroToML/image00.png)"
   ]
  },
  {
   "cell_type": "markdown",
   "metadata": {},
   "source": [
    "#### Machine learning is the idea that there are generic algorithms that can tell you something interesting about a set of data without you having to write any custom code specific to the problem. \n",
    "\n",
    "Instead of writing code, you feed data to the generic algorithm and it builds its own logic based on the data."
   ]
  },
  {
   "attachments": {},
   "cell_type": "markdown",
   "metadata": {},
   "source": [
    "![image.png](IntroToML/image2.png)"
   ]
  },
  {
   "cell_type": "markdown",
   "metadata": {},
   "source": [
    "# Types of Machine Learning Systems\n",
    "\n",
    "There are so many different types of Machine Learning systems that it is useful to classify them in broad categories based on:\n",
    "- Whether or not they are trained with human supervision (__supervised__, __unsupervised__, __semisupervised__, and __Reinforcement Learning__)\n",
    "- Whether or not they can learn incrementally on the fly (__online versus batch learning__)\n",
    "- Whether they work by simply comparing new data points to known data points, or instead detect patterns in the training data and build a predictive model, much like scientists do (__instance-based versus model-based learning__)\n"
   ]
  },
  {
   "cell_type": "markdown",
   "metadata": {},
   "source": [
    "## Supervised Learning"
   ]
  },
  {
   "attachments": {},
   "cell_type": "markdown",
   "metadata": {},
   "source": [
    "![image.png](IntroToML/image3.png)"
   ]
  },
  {
   "cell_type": "markdown",
   "metadata": {},
   "source": [
    "Supervised learning is where you have input variables (x) and an output variable (Y) and you use an algorithm to learn the mapping function from the input to the output. The __goal__ is to _approximate the mapping function so well that when you have new input data (x) that you can predict the output variables (Y) for that data_."
   ]
  },
  {
   "attachments": {},
   "cell_type": "markdown",
   "metadata": {},
   "source": [
    "![image.png](IntroToML/image4.png)"
   ]
  },
  {
   "cell_type": "markdown",
   "metadata": {},
   "source": [
    "## Supervised learning problems can be further grouped into regression and classification problems.\n",
    "\n",
    "#### Classification:\n",
    "A __classification problem__ is when the output variable is a __category__, such as “red” or “blue” or “disease” and “no disease”.\n",
    "#### Regression: \n",
    "A __regression problem__ is when the output variable is a __real value__, such as “rupees” or “weight”."
   ]
  },
  {
   "cell_type": "markdown",
   "metadata": {},
   "source": [
    "#### Some popular examples of supervised machine learning algorithms are:\n",
    "\n",
    "- __Linear regression__ for _regression_ problems,\n",
    "- __Random forest__ for _classification_ and _regression_ problems,\n",
    "- __Support vector machines (SVM)__ for _classification_ problems."
   ]
  },
  {
   "cell_type": "markdown",
   "metadata": {},
   "source": [
    "In Machine Learning an **attribute** is a data type (e.g., “Mileage”), while a **feature** has several meanings depending on the context, but generally means an attribute plus its value (e.g., “Mileage = 15,000”). Many people use the words attribute and feature interchangeably, though."
   ]
  },
  {
   "attachments": {},
   "cell_type": "markdown",
   "metadata": {},
   "source": [
    "![image.png](IntroToML/image5.png)"
   ]
  },
  {
   "cell_type": "markdown",
   "metadata": {},
   "source": [
    "## Unsupervised Machine Learning"
   ]
  },
  {
   "attachments": {},
   "cell_type": "markdown",
   "metadata": {},
   "source": [
    "![image.png](IntroToML/image6.png)"
   ]
  },
  {
   "cell_type": "markdown",
   "metadata": {},
   "source": [
    "Unsupervised learning is where you only have __input data (X)__ and __no corresponding output variables__.\n",
    "\n",
    "The __goal__ for unsupervised learning is to _model the underlying structure or distribution in the data in order to learn more about the data_."
   ]
  },
  {
   "attachments": {},
   "cell_type": "markdown",
   "metadata": {},
   "source": [
    "![image.png](IntroToML/image7.png)"
   ]
  },
  {
   "cell_type": "markdown",
   "metadata": {},
   "source": [
    "### Unsupervised learning problems can be further grouped into clustering and association problems.\n",
    "\n",
    "#### Clustering:\n",
    "A __clustering problem__ is where you want to discover the __inherent groupings__ in the data, such as _grouping customers by purchasing behavior_.\n",
    "#### Association:\n",
    "An __association rule__ learning problem is where you want to discover __rules that describe large portions__ of your data, such as _people that buy X also tend to buy Y_."
   ]
  },
  {
   "cell_type": "markdown",
   "metadata": {},
   "source": [
    "## Supervised Vs Unsupervised\n",
    "\n",
    "* __Supervised learning__\n",
    "    - Trying to predict a specific quantity.\n",
    "    - Have training examples with labels.\n",
    "    - Cam measure accuracy directly\n",
    "    \n",
    "* __Unsupervised learning__\n",
    "    - Trying to understand the data\n",
    "    - Looking for structures or unusual patterns\n",
    "    - Not looking for something specific (supervised)\n",
    "    - Does no require labelled data\n",
    "    - Evaluation, usually indirect or qualitative\n",
    "    \n",
    "* __Semi Supervised learning__\n",
    "    - Using unsupervised methods to improve supervised algorithms.\n",
    "    - Usually few labelled examples + lot of unlabelled examples"
   ]
  },
  {
   "cell_type": "markdown",
   "metadata": {},
   "source": [
    "## Semisupervised learning"
   ]
  },
  {
   "cell_type": "markdown",
   "metadata": {},
   "source": [
    "Some algorithms can deal with __partially labeled training data__, usually a _lot of unlabeled data and a little bit of labeled data_. \n",
    "\n",
    "Some __photo-hosting services__, such as _Google Photos_, are good examples of this."
   ]
  },
  {
   "attachments": {},
   "cell_type": "markdown",
   "metadata": {},
   "source": [
    "![image.png](images/IntroToML.png)"
   ]
  },
  {
   "cell_type": "markdown",
   "metadata": {},
   "source": [
    "# Why Use Machine Learning?"
   ]
  },
  {
   "attachments": {},
   "cell_type": "markdown",
   "metadata": {},
   "source": [
    "![image.png](IntroToML/image9.png)"
   ]
  },
  {
   "cell_type": "markdown",
   "metadata": {},
   "source": [
    "_______________________________________________________________________________________"
   ]
  },
  {
   "attachments": {},
   "cell_type": "markdown",
   "metadata": {},
   "source": [
    "![image.png](IntroToML/image10.png)"
   ]
  },
  {
   "cell_type": "markdown",
   "metadata": {},
   "source": [
    "____"
   ]
  },
  {
   "attachments": {},
   "cell_type": "markdown",
   "metadata": {},
   "source": [
    "![image.png](IntroToML/image11.png)"
   ]
  },
  {
   "cell_type": "markdown",
   "metadata": {},
   "source": [
    "###  To summarize, Machine Learning is great for:\n",
    "- Problems for which __existing solutions require a lot of hand-tuning__ or long lists of rules: one Machine Learning algorithm can often simplify code and perform better.\n",
    "\n",
    "- Complex problems for which __there is no good solution at all using a traditional approach__: the best Machine Learning techniques can find a solution.\n",
    "- __Fluctuating environments__: a Machine Learning system can adapt to new data.\n",
    "- Getting __insights__ about _complex problems_ and _large amounts of data_."
   ]
  },
  {
   "attachments": {},
   "cell_type": "markdown",
   "metadata": {},
   "source": [
    "![image.png](IntroToML/image12.png)"
   ]
  },
  {
   "cell_type": "markdown",
   "metadata": {},
   "source": [
    "# Reinforcement Learning"
   ]
  },
  {
   "cell_type": "markdown",
   "metadata": {},
   "source": [
    "Reinforcement Learning is a very different __beast__. The learning system, called an __agent__ in this context, can observe the __environment__, select and __perform actions__, and __get rewards__"
   ]
  },
  {
   "attachments": {},
   "cell_type": "markdown",
   "metadata": {},
   "source": [
    "![image.png](IntroToML/image13.png)"
   ]
  },
  {
   "cell_type": "markdown",
   "metadata": {},
   "source": [
    "# Batch and Online Learning\n",
    "\n",
    "Another criterion used to classify Machine Learning systems is whether or not the system can __learn incrementally__ from a __stream of incoming data__.\n"
   ]
  },
  {
   "cell_type": "markdown",
   "metadata": {},
   "source": [
    "## Batch learning\n",
    "\n",
    "In batch learning, the system is __incapable__ of learning incrementally: it must be _trained using all the available data_. "
   ]
  },
  {
   "cell_type": "markdown",
   "metadata": {},
   "source": [
    "## Online learning\n",
    "\n",
    "In online learning, you __train the system incrementally__ by feeding it data instances sequentially, either individually or by small groups called mini-batches. Each learning step is __fast and cheap__, so the system can learn about _<b>new data on the fly</b>_ , as it arrives"
   ]
  },
  {
   "attachments": {},
   "cell_type": "markdown",
   "metadata": {},
   "source": [
    "![image.png](IntroToML/image14.png)"
   ]
  },
  {
   "cell_type": "markdown",
   "metadata": {},
   "source": [
    "# Instance-Based Versus Model-Based Learning\n",
    "\n",
    "One more way to categorize Machine Learning systems is by __how they generalize__."
   ]
  },
  {
   "cell_type": "markdown",
   "metadata": {},
   "source": [
    "## Instance-based learning\n",
    "\n",
    "The system learns the examples by __heart__, then generalizes to new cases using a _similarity measure_"
   ]
  },
  {
   "attachments": {},
   "cell_type": "markdown",
   "metadata": {},
   "source": [
    "![image.png](IntroToML/image15.png)"
   ]
  },
  {
   "cell_type": "markdown",
   "metadata": {},
   "source": [
    "##  Model-based learning\n",
    "\n",
    "Another way to generalize from a __set of examples__ is to _build a model of these examples_ , then use that model to make __predictions__. This is called model-based learning "
   ]
  },
  {
   "attachments": {},
   "cell_type": "markdown",
   "metadata": {},
   "source": [
    "![image.png](IntroToML/image16.png)"
   ]
  },
  {
   "cell_type": "markdown",
   "metadata": {},
   "source": [
    "# Technologies"
   ]
  },
  {
   "attachments": {},
   "cell_type": "markdown",
   "metadata": {},
   "source": [
    "![image.png](IntroToML/image17.png)"
   ]
  }
 ],
 "metadata": {
  "anaconda-cloud": {},
  "kernelspec": {
   "display_name": "Python 3",
   "language": "python",
   "name": "python3"
  },
  "language_info": {
   "codemirror_mode": {
    "name": "ipython",
    "version": 3
   },
   "file_extension": ".py",
   "mimetype": "text/x-python",
   "name": "python",
   "nbconvert_exporter": "python",
   "pygments_lexer": "ipython3",
   "version": "3.7.3"
  }
 },
 "nbformat": 4,
 "nbformat_minor": 2
}
